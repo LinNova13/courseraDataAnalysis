{
 "cells": [
  {
   "cell_type": "code",
   "execution_count": 12,
   "metadata": {},
   "outputs": [
    {
     "name": "stdout",
     "output_type": "stream",
     "text": [
      "Pclass    0.147518\n",
      "Fare      0.295385\n",
      "Age       0.256585\n",
      "Sex       0.300512\n",
      "dtype: float64\n"
     ]
    }
   ],
   "source": [
    "import numpy as np\n",
    "import pandas\n",
    "from sklearn.tree import DecisionTreeClassifier\n",
    "\n",
    "#1. Загрузите выборку из файла titanic.csv с помощью пакета Pandas.\n",
    "data = pandas.read_csv('titanic.csv',index_col = 'PassengerId')\n",
    "\n",
    "#2. Оставьте в выборке четыре признака:\n",
    "#класс пассажира (Pclass), цену билета (Fare), возраст пассажира (Age) и его пол (Sex).\n",
    "labels = ['Pclass', 'Fare', 'Age', 'Sex']\n",
    "x = data.loc[:,labels]\n",
    "\n",
    "#3. Обратите внимание, что признак Sex имеет строковые значения.\n",
    "x['Sex'] = x['Sex'].map(lambda sex: 1 if sex == 'female' else 0)\n",
    "\n",
    "#4. Выделите целевую переменную — она записана в столбце Survived\n",
    "y = data['Survived']\n",
    "\n",
    "#5. В данных есть пропущенные значения — например, для некоторых пассажиров неизвестен их возраст. Такие записи при чтении их в pandas принимают значение nan.\n",
    "#Найдите все объекты, у которых есть пропущенные признаки, и удалите их из выборки.\n",
    "\n",
    "x = x.dropna()\n",
    "y = y[x.index.values]\n",
    "\n",
    "#6. Обучите решающее дерево с параметром random_state=241 \n",
    "#и остальными параметрами по умолчанию (речь идет о параметрах конструктора DecisionTreeСlassifier)\n",
    "\n",
    "clf = DecisionTreeClassifier(random_state = 241)\n",
    "clf.fit(np.array(x.values), np.array(y.values))\n",
    "\n",
    "#7. Вычислите важности признаков и найдите два признака с наибольшей важностью.\n",
    "importances = pandas.Series(clf.feature_importances_, index = labels)\n",
    "print(importances)"
   ]
  },
  {
   "cell_type": "code",
   "execution_count": null,
   "metadata": {},
   "outputs": [],
   "source": []
  }
 ],
 "metadata": {
  "kernelspec": {
   "display_name": "Python 3",
   "language": "python",
   "name": "python3"
  },
  "language_info": {
   "codemirror_mode": {
    "name": "ipython",
    "version": 3
   },
   "file_extension": ".py",
   "mimetype": "text/x-python",
   "name": "python",
   "nbconvert_exporter": "python",
   "pygments_lexer": "ipython3",
   "version": "3.6.5"
  }
 },
 "nbformat": 4,
 "nbformat_minor": 2
}
