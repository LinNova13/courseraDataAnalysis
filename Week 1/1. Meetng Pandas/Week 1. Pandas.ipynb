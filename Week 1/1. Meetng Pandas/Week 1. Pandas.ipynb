{
 "cells": [
  {
   "cell_type": "code",
   "execution_count": 4,
   "metadata": {},
   "outputs": [
    {
     "name": "stdout",
     "output_type": "stream",
     "text": [
      "1.  577 314\n",
      "2.  38.38\n",
      "3.  24.24\n",
      "4.  29.7 28.0\n",
      "5.  0.41\n",
      "6.  Anna\n"
     ]
    }
   ],
   "source": [
    "import pandas\n",
    "import re\n",
    "import sys\n",
    "\n",
    "\n",
    "data = pandas.read_csv('titanic.csv', index_col='PassengerId')\n",
    "data['Pclass'] = data['Pclass'].astype(object)\n",
    "\n",
    "# 1. Какое количество мужчин и женщин ехало на корабле? В качестве ответа приведите два числа через пробел.\n",
    "\n",
    "sex_counts = data['Sex'].value_counts()\n",
    "print('1. ', '{} {}'.format(sex_counts['male'], sex_counts['female']))\n",
    "\n",
    "# 2. Какой части пассажиров удалось выжить? Посчитайте долю выживших пассажиров.\n",
    "# Ответ приведите в процентах (число в интервале от 0 до 100, знак процента не нужен).\n",
    "\n",
    "surv_counts = data['Survived'].value_counts()\n",
    "surv_percent = round(100.0 * surv_counts[1] / surv_counts.sum(),2)\n",
    "print('2. ',surv_percent)\n",
    "\n",
    "# 3. Какую долю пассажиры первого класса составляли среди всех пассажиров?\n",
    "# Ответ приведите в процентах (число в интервале от 0 до 100, знак процента не нужен).\n",
    "\n",
    "pclass_counts = data['Pclass'].value_counts()\n",
    "percent = round(100.0 * pclass_counts[1] / pclass_counts.sum(),2)\n",
    "print('3. ', percent)\n",
    "\n",
    "# 4. Какого возраста были пассажиры? Посчитайте среднее и медиану возраста пассажиров.\n",
    "# В качестве ответа приведите два числа через пробел.\n",
    "\n",
    "mean =round(data['Age'].mean(),2)\n",
    "median = round(data['Age'].median(),2)\n",
    "print('4. ', mean, median)\n",
    "\n",
    "# 5. Коррелируют ли число братьев/сестер с числом родителей/детей?\n",
    "# Посчитайте корреляцию Пирсона между признаками SibSp и Parch.\n",
    "\n",
    "corr = round(data['SibSp'].corr(data['Parch']),2)\n",
    "print('5. ', corr)\n",
    "\n",
    "# 6. Какое самое популярное женское имя на корабле? Извлеките из полного имени пассажира (колонка Name)\n",
    "# его личное имя (First Name). Это задание — типичный пример того, с чем сталкивается специалист по анализу данных.\n",
    "# Данные очень разнородные и шумные, но из них требуется извлечь необходимую информацию. Попробуйте вручную разобрать\n",
    "# несколько значений столбца Name и выработать правило для извлечения имен, а также разделения их на женские и мужские.\n",
    "\n",
    "\n",
    "def clean_name(name):\n",
    "    s = re.search('^[^,]+, (.*)', name)\n",
    "    if s:\n",
    "        name = s.group(1)\n",
    "\n",
    "    s = re.search('\\(([^)]+)\\)', name)\n",
    "    if s:\n",
    "        name = s.group(1)\n",
    "\n",
    "    name = re.sub('(Miss\\. |Mrs\\. |Ms\\. )', '', name)\n",
    "\n",
    "    name = name.split(' ')[0].replace('\"', '')\n",
    "\n",
    "    return name\n",
    "\n",
    "\n",
    "names = data[data['Sex'] == 'female']['Name'].map(clean_name)\n",
    "name_counts = names.value_counts()\n",
    "print('6. ', name_counts.head(1).index.values[0])"
   ]
  },
  {
   "cell_type": "code",
   "execution_count": null,
   "metadata": {},
   "outputs": [],
   "source": []
  }
 ],
 "metadata": {
  "kernelspec": {
   "display_name": "Python 3",
   "language": "python",
   "name": "python3"
  },
  "language_info": {
   "codemirror_mode": {
    "name": "ipython",
    "version": 3
   },
   "file_extension": ".py",
   "mimetype": "text/x-python",
   "name": "python",
   "nbconvert_exporter": "python",
   "pygments_lexer": "ipython3",
   "version": "3.6.5"
  }
 },
 "nbformat": 4,
 "nbformat_minor": 2
}
