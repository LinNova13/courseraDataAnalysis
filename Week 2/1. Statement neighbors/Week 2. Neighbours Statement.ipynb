{
 "cells": [
  {
   "cell_type": "code",
   "execution_count": 17,
   "metadata": {},
   "outputs": [
    {
     "name": "stdout",
     "output_type": "stream",
     "text": [
      "1.  1\n",
      "2.  0.73\n",
      "3.  29\n",
      "4.  0.98\n"
     ]
    }
   ],
   "source": [
    "# import pandas as pd\n",
    "import sklearn\n",
    "from sklearn.cross_validation import KFold, cross_val_score\n",
    "from sklearn.neighbors import KNeighborsClassifier\n",
    "\n",
    "#1. Загрузите выборку Wine по адресу https://archive.ics.uci.edu/ml/machine-learning-databases/wine/wine.data \n",
    "#2. Извлеките из данных признаки и классы. Класс записан в первом столбце (три варианта), \n",
    "#признаки — в столбцах со второго по последний. \n",
    "#Более подробно о сути признаков можно прочитать по адресу \n",
    "#https://archive.ics.uci.edu/ml/datasets/Wine \n",
    "\n",
    "data = pd.read_csv('wine.data', header = None)\n",
    "y = data[0] #class\n",
    "x = data.loc[:,1:] #statements\n",
    "\n",
    "#3. Оценку качества необходимо провести методом кросс-валидации по 5 блокам (5-fold).\n",
    "#Создайте генератор разбиений, который перемешивает выборку перед формированием блоков (shuffle=True). \n",
    "#Для воспроизводимости результата, создавайте генератор KFold с фиксированным параметром random_state=42. \n",
    "#В качестве меры качества используйте долю верных ответов (accuracy).\n",
    "\n",
    "kf = KFold(n = len(y), n_folds = 5, shuffle = True, random_state = 42)\n",
    "\n",
    "#4. Найдите точность классификации на кросс-валидации для метода k ближайших соседей \n",
    "#(sklearn.neighbors.KNeighborsClassifier), при k от 1 до 50. \n",
    "#При каком k получилось оптимальное качество? Чему оно равно (число в интервале от 0 до 1)?\n",
    "\n",
    "def find_accuracy(kf, x, y):\n",
    "    KMeans = list()\n",
    "    k_range = range(1,51)\n",
    "    for k in k_range:\n",
    "        model = KNeighborsClassifier(n_neighbors = k)\n",
    "        KMeans.append(cross_val_score(model,x,y,cv = kf, scoring = 'accuracy'))\n",
    "        \n",
    "    return pd.DataFrame(KMeans, k_range).mean(axis=1).sort_values(ascending=False)\n",
    "\n",
    "accuracy = find_accuracy(kf,x,y)\n",
    "optim_accuracy = accuracy.head(1)\n",
    "print('1. ',optim_accuracy.index[0])\n",
    "print('2. ',round(optim_accuracy.values[0],2))\n",
    "\n",
    "#5. Произведите масштабирование признаков с помощью функции sklearn.preprocessing.scale. \n",
    "#Снова найдите оптимальное k на кросс-валидации.\n",
    "x = sklearn.preprocessing.scale(x)\n",
    "accuracy_new = find_accuracy(kf, x, y)\n",
    "\n",
    "#6. Какое значение k получилось оптимальным после приведения признаков к одному масштабу? \n",
    "#Приведите ответы на вопросы 3 и 4. Помогло ли масштабирование признаков?\n",
    "\n",
    "optim_accuracy = accuracy_new.head(1)\n",
    "print('3. ',optim_accuracy.index[0])\n",
    "print('4. ',round(optim_accuracy.values[0],2))\n"
   ]
  },
  {
   "cell_type": "code",
   "execution_count": null,
   "metadata": {},
   "outputs": [],
   "source": []
  }
 ],
 "metadata": {
  "kernelspec": {
   "display_name": "Python 3",
   "language": "python",
   "name": "python3"
  },
  "language_info": {
   "codemirror_mode": {
    "name": "ipython",
    "version": 3
   },
   "file_extension": ".py",
   "mimetype": "text/x-python",
   "name": "python",
   "nbconvert_exporter": "python",
   "pygments_lexer": "ipython3",
   "version": "3.6.5"
  }
 },
 "nbformat": 4,
 "nbformat_minor": 2
}
