{
 "cells": [
  {
   "cell_type": "code",
   "execution_count": 15,
   "metadata": {},
   "outputs": [
    {
     "name": "stdout",
     "output_type": "stream",
     "text": [
      "0.19\n"
     ]
    },
    {
     "name": "stderr",
     "output_type": "stream",
     "text": [
      "C:\\Users\\Alina\\Anaconda3\\lib\\site-packages\\sklearn\\linear_model\\stochastic_gradient.py:128: FutureWarning: max_iter and tol parameters have been added in <class 'sklearn.linear_model.perceptron.Perceptron'> in 0.19. If both are left unset, they default to max_iter=5 and tol=None. If tol is not None, max_iter defaults to max_iter=1000. From 0.21, default max_iter will be 1000, and default tol will be 1e-3.\n",
      "  \"and default tol will be 1e-3.\" % type(self), FutureWarning)\n"
     ]
    }
   ],
   "source": [
    "import pandas as pd\n",
    "from sklearn.linear_model import Perceptron\n",
    "from sklearn.metrics import accuracy_score\n",
    "from sklearn.preprocessing import StandardScaler\n",
    "\n",
    "#1. Загрузите обучающую и тестовую выборки из файлов perceptron-train.csv и perceptron-test.csv. \n",
    "#Целевая переменная записана в первом столбце, признаки — во втором и третьем.\n",
    "train_data = pd.read_csv('perceptron-train.csv',header = None)\n",
    "test_data = pd.read_csv('perceptron-test.csv', header = None)\n",
    "\n",
    "y_train = train_data[0]\n",
    "y_test = test_data[0]\n",
    "\n",
    "x_train = train_data.loc[:,1:]\n",
    "x_test = test_data.loc[:,1:]\n",
    "\n",
    "#2.Обучите персептрон со стандартными параметрами и random_state=241.\n",
    "model = Perceptron(random_state = 241, max_iter = 5, tol = None)\n",
    "model.fit(x_train,y_train)\n",
    "\n",
    "#3. Подсчитайте качество (долю правильно классифицированных объектов, accuracy)\n",
    "#полученного классификатора на тестовой выборке.\n",
    "\n",
    "accuracy_test = accuracy_score(y_test, model.predict(x_test))\n",
    "\n",
    "#4. Нормализуйте обучающую и тестовую выборку с помощью класса StandardScaler.\n",
    "scaler = StandardScaler()\n",
    "x_train_scaled = scaler.fit_transform(x_train)\n",
    "x_test_scaled = scaler.transform(x_test)\n",
    "\n",
    "#5. Обучите персептрон на новой выборке. Найдите долю правильных ответов на тестовой выборке.\n",
    "model = Perceptron(random_state = 241)\n",
    "model.fit(x_train_scaled, y_train)\n",
    "accuracy_new = accuracy_score(y_test,model.predict(x_test_scaled))\n",
    "#6. Найдите разность между качеством на тестовой выборке\n",
    "#после нормализации и качеством до нее. Это число и будет ответом на задание.\n",
    "\n",
    "print(round(accuracy_new - accuracy_test,3))"
   ]
  },
  {
   "cell_type": "code",
   "execution_count": null,
   "metadata": {},
   "outputs": [],
   "source": []
  }
 ],
 "metadata": {
  "kernelspec": {
   "display_name": "Python 3",
   "language": "python",
   "name": "python3"
  },
  "language_info": {
   "codemirror_mode": {
    "name": "ipython",
    "version": 3
   },
   "file_extension": ".py",
   "mimetype": "text/x-python",
   "name": "python",
   "nbconvert_exporter": "python",
   "pygments_lexer": "ipython3",
   "version": "3.6.5"
  }
 },
 "nbformat": 4,
 "nbformat_minor": 2
}
