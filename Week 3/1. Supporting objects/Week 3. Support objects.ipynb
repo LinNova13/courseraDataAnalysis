{
 "cells": [
  {
   "cell_type": "code",
   "execution_count": 15,
   "metadata": {},
   "outputs": [
    {
     "name": "stdout",
     "output_type": "stream",
     "text": [
      "[ 4  5 10]\n"
     ]
    }
   ],
   "source": [
    "import pandas as pd\n",
    "from sklearn.svm import SVC\n",
    "\n",
    "#1. Загрузите выборку из файла svm-data.csv. В нем записана двумерная выборка \n",
    "#(целевая переменная указана в первом столбце, признаки — во втором и третьем).\n",
    "\n",
    "data = pd.read_csv('svm-data.csv',header = None)\n",
    "obg_func = data[0]\n",
    "feat = data.loc[:,1:]\n",
    "\n",
    "#2. Обучите классификатор с линейным ядром, параметром C = 100000 и random_state=241. \n",
    "#Такое значение параметра нужно использовать, чтобы убедиться, что SVM работает с выборкой как с линейно разделимой. \n",
    "#При более низких значениях параметра алгоритм будет настраиваться с учетом слагаемого в функционале, \n",
    "#штрафующего за маленькие отступы, из-за чего результат может не совпасть с решением \n",
    "#классической задачи SVM для линейно разделимой выборки.\n",
    "\n",
    "model = SVC(C = 10000,kernel = 'linear', random_state = 241)\n",
    "model.fit(feat, obg_func)\n",
    "\n",
    "#3. Найдите номера объектов, которые являются опорными (нумерация с единицы). Они будут являться ответом на задание. \n",
    "#Обратите внимание, что в качестве ответа нужно привести номера объектов в возрастающем \n",
    "#порядке через запятую или пробел. Нумерация начинается с 1.\n",
    "\n",
    "res = model.support_+1\n",
    "res.sort()\n",
    "\n",
    "print(res)"
   ]
  },
  {
   "cell_type": "code",
   "execution_count": null,
   "metadata": {},
   "outputs": [],
   "source": []
  }
 ],
 "metadata": {
  "kernelspec": {
   "display_name": "Python 3",
   "language": "python",
   "name": "python3"
  },
  "language_info": {
   "codemirror_mode": {
    "name": "ipython",
    "version": 3
   },
   "file_extension": ".py",
   "mimetype": "text/x-python",
   "name": "python",
   "nbconvert_exporter": "python",
   "pygments_lexer": "ipython3",
   "version": "3.6.5"
  }
 },
 "nbformat": 4,
 "nbformat_minor": 2
}
