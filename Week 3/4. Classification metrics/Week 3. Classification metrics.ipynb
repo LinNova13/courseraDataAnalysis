{
 "cells": [
  {
   "cell_type": "code",
   "execution_count": 17,
   "metadata": {},
   "outputs": [
    {
     "name": "stdout",
     "output_type": "stream",
     "text": [
      "1. 43 34 59 64\n",
      "2.  0.54 0.56 0.42 0.48\n",
      "3.  score_logreg\n",
      "4  score_tree\n"
     ]
    }
   ],
   "source": [
    "import pandas as pd\n",
    "from sklearn.metrics import accuracy_score,precision_score,recall_score,f1_score, roc_auc_score\n",
    "from sklearn.metrics import precision_recall_curve\n",
    "#1. Загрузите файл classification.csv. В нем записаны истинные классы объектов выборки (колонка true)\n",
    "#и ответы некоторого классификатора (колонка pred).\n",
    "\n",
    "data = pd.read_csv('classification.csv')\n",
    "\n",
    "#2. Заполните таблицу ошибок классификации.Для этого подсчитайте величины TP, FP, FN и TN\n",
    "#согласно их определениям. Например, FP — это количество объектов, имеющих класс 0, но отнесенных\n",
    "#алгоритмом к классу 1. Ответ в данном вопросе — четыре числа через пробел.\n",
    "\n",
    "clf_table = {'TP':(1,1), 'FP':(0,1), 'FN':(1,0), 'TN':(0,0)}\n",
    "for name, res in iter(clf_table.items()):\n",
    "    clf_table[name] = len(data[(data['true'] == res[0]) & (data['pred'] == res[1])])\n",
    "    \n",
    "print('1. {TP} {FP} {FN} {TN}'.format(**clf_table))\n",
    "\n",
    "#3. Посчитайте основные метрики качества классификатора:\n",
    "#Accuracy (доля верно угаданных) — sklearn.metrics.accuracy_score\n",
    "#Precision (точность) — sklearn.metrics.precision_score\n",
    "#Recall (полнота) — sklearn.metrics.recall_score\n",
    "#F-мера — sklearn.metrics.f1_score\n",
    "#В качестве ответа укажите эти четыре числа через пробел.\n",
    "\n",
    "accuracy = round(accuracy_score(data['true'],data['pred']),2)\n",
    "precision = round(precision_score(data['true'],data['pred']),2)\n",
    "recall = round(recall_score(data['true'],data['pred']),2)\n",
    "f_score = round(f1_score(data['true'],data['pred']),2)\n",
    "\n",
    "print('2. ',accuracy,precision,recall,f_score)\n",
    "\n",
    "#4. Имеется четыре обученных классификатора. В файле scores.csv записаны истинные классы и \n",
    "#значения степени принадлежности положительному классу для каждого классификатора на некоторой выборке:\n",
    "#для логистической регрессии — вероятность положительного класса (колонка score_logreg),\n",
    "#для SVM — отступ от разделяющей поверхности (колонка score_svm),\n",
    "#для метрического алгоритма — взвешенная сумма классов соседей (колонка score_knn),\n",
    "#для решающего дерева — доля положительных объектов в листе (колонка score_tree). Загрузите этот файл.\n",
    "\n",
    "true_data = pd.read_csv('scores.csv')\n",
    "\n",
    "#5.Посчитайте площадь под ROC-кривой для каждого классификатора. Какой классификатор имеет \n",
    "#наибольшее значение метрики AUC-ROC (укажите название столбца)? Воспользуйтесь функцией \n",
    "#sklearn.metrics.roc_auc_score.\n",
    "\n",
    "scores = {}\n",
    "for clf in true_data.columns[1:]:\n",
    "    scores[clf] = roc_auc_score(true_data['true'], true_data[clf])\n",
    "print('3. ',pd.Series(scores).sort_values(ascending = False).head(1).index[0])\n",
    "\n",
    "#6.Какой классификатор достигает наибольшей точности (Precision) при полноте (Recall) не менее 70% ?\n",
    "prec_score = {}\n",
    "for clf in true_data.columns[1:]:\n",
    "    prec_recall = precision_recall_curve(true_data['true'], true_data[clf])\n",
    "    prec_recall_data = pd.DataFrame({'precision': prec_recall[0], 'recall': prec_recall[1]})\n",
    "    prec_score[clf] = prec_recall_data[prec_recall_data['recall'] >= 0.7]['precision'].max()\n",
    "    \n",
    "print('4 ',pd.Series(prec_score).sort_values(ascending=False).head(1).index[0])"
   ]
  },
  {
   "cell_type": "code",
   "execution_count": null,
   "metadata": {},
   "outputs": [],
   "source": []
  }
 ],
 "metadata": {
  "kernelspec": {
   "display_name": "Python 3",
   "language": "python",
   "name": "python3"
  },
  "language_info": {
   "codemirror_mode": {
    "name": "ipython",
    "version": 3
   },
   "file_extension": ".py",
   "mimetype": "text/x-python",
   "name": "python",
   "nbconvert_exporter": "python",
   "pygments_lexer": "ipython3",
   "version": "3.6.5"
  }
 },
 "nbformat": 4,
 "nbformat_minor": 2
}
