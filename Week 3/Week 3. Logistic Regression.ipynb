{
 "cells": [
  {
   "cell_type": "code",
   "execution_count": 25,
   "metadata": {},
   "outputs": [
    {
     "name": "stdout",
     "output_type": "stream",
     "text": [
      "0.927   0.936\n"
     ]
    }
   ],
   "source": [
    "import pandas as pd\n",
    "import numpy as np\n",
    "import math\n",
    "from sklearn.metrics import roc_auc_score\n",
    "#1. Загрузите данные из файла data-logistic.csv. \n",
    "#Это двумерная выборка, целевая переменная на которой принимает значения -1 или 1.\n",
    "\n",
    "data = pd.read_csv('data-logistic.csv', header = None)\n",
    "y = data[0]\n",
    "x = data.loc[:,1:]\n",
    "\n",
    "#2. Убедитесь, что выше выписаны правильные формулы для градиентного спуска. Обратите внимание, \n",
    "#что мы используем полноценный градиентный спуск, а не его стохастический вариант!\n",
    "\n",
    "def w_1(w1,w2,y,x,k,C):\n",
    "    l = len(y)\n",
    "    summ = 0\n",
    "    for i in range(0,l):\n",
    "        summ += y[i] * x[1][i] * (1.0 - 1.0/(1.0 + math.exp(-y[i] * (w1*x[1][i] + w2*x[2][i]))))\n",
    "    res = w1 + (k*(1.0/l)*summ) - k*C*w1\n",
    "    return res\n",
    "    \n",
    "def w_2(w1,w2,y,x,k,C):\n",
    "    l = len(y)\n",
    "    summ = 0\n",
    "    for i in range(0,l):\n",
    "        summ +=y[i]*x[2][i]*(1.0 - 1.0/(1.0+math.exp(-y[i]*(w1*x[1][i]+w2*x[2][i]))))\n",
    "    res = w2 +k*(1.0/l)*summ - k*C*w2\n",
    "    return res\n",
    "\n",
    "#3. Реализуйте градиентный спуск для обычной и L2-регуляризованной (с коэффициентом регуляризации 10)\n",
    "#логистической регрессии. Используйте длину шага k=0.1. В качестве начального приближения используйте \n",
    "#вектор (0, 0).\n",
    "\n",
    "#4. Запустите градиентный спуск и доведите до сходимости (евклидово расстояние между векторами весов \n",
    "#на соседних итерациях должно быть не больше 1e-5). Рекомендуется ограничить сверху число итераций \n",
    "#десятью тысячами.\n",
    "\n",
    "def gradient(y,x, C ,w1 = 0.0,w2 = 0.0, k = 0.1, evk = 1e-5):\n",
    "    l = len(y)\n",
    "    i = 0\n",
    "    max_i = 10000\n",
    "    w1_new = w1\n",
    "    w2_new = w2\n",
    "    while i <= max_i:\n",
    "        i += 1\n",
    "        w1_new = w_1(w1,w2,y,x,k,C)\n",
    "        w2_new = w_2(w1,w2,y,x,k,C)\n",
    "        evklid_dist = np.linalg.norm(w1 - w1_new)+np.linalg.norm(w2 - w2_new) \n",
    "        \n",
    "        if evklid_dist <= evk:\n",
    "            break\n",
    "        else:\n",
    "            w1 = w1_new\n",
    "            w2 = w2_new\n",
    "            \n",
    "    return [w1_new,w2_new]\n",
    "\n",
    "w1,w2 = gradient(y,x, 0.0)\n",
    "reg_w1, reg_w2 = gradient(y, x, 10.0)\n",
    "\n",
    "#5. Какое значение принимает AUC-ROC на обучении без регуляризации и при ее использовании? \n",
    "#Эти величины будут ответом на задание. В качестве ответа приведите два числа через пробел. \n",
    "#Обратите внимание, что на вход функции roc_auc_score нужно подавать оценки вероятностей, подсчитанные\n",
    "#обученным алгоритмом. Для этого воспользуйтесь сигмоидной функцией: \n",
    "#a(x) = 1 / (1 + exp(-w1 x1 - w2 x2)).\n",
    "\n",
    "def sigmoid(x,w1,w2):\n",
    "    a = 1.0 / (1.0 + math.exp(-w1*x[1] - w2*x[2]))\n",
    "    return a\n",
    "\n",
    "y_score = x.apply(lambda x: sigmoid(x,w1,w2), axis = 1)\n",
    "y_reg_score = x.apply(lambda x: sigmoid(x, reg_w1, reg_w2), axis = 1)\n",
    "\n",
    "auc = round(roc_auc_score(y, y_score),3)\n",
    "reg_auc = round(roc_auc_score(y,y_reg_score),3)\n",
    "\n",
    "print(auc,' ',reg_auc)"
   ]
  },
  {
   "cell_type": "code",
   "execution_count": null,
   "metadata": {},
   "outputs": [],
   "source": []
  }
 ],
 "metadata": {
  "kernelspec": {
   "display_name": "Python 3",
   "language": "python",
   "name": "python3"
  },
  "language_info": {
   "codemirror_mode": {
    "name": "ipython",
    "version": 3
   },
   "file_extension": ".py",
   "mimetype": "text/x-python",
   "name": "python",
   "nbconvert_exporter": "python",
   "pygments_lexer": "ipython3",
   "version": "3.6.5"
  }
 },
 "nbformat": 4,
 "nbformat_minor": 2
}
