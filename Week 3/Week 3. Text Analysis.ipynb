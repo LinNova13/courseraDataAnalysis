{
 "cells": [
  {
   "cell_type": "code",
   "execution_count": 12,
   "metadata": {},
   "outputs": [
    {
     "name": "stdout",
     "output_type": "stream",
     "text": [
      "atheism atheists bible god keith moon religion sci sky space\n"
     ]
    }
   ],
   "source": [
    "import pandas as pd\n",
    "import numpy as np\n",
    "from sklearn import datasets\n",
    "from sklearn.feature_extraction.text import TfidfVectorizer\n",
    "from sklearn.svm import SVC\n",
    "from sklearn.model_selection import GridSearchCV\n",
    "from sklearn.cross_validation import KFold\n",
    "\n",
    "#1. Загрузите объекты из новостного датасета 20 newsgroups, относящиеся к категориям \"космос\" \n",
    "#и \"атеизм\" (инструкция приведена выше). Обратите внимание, что загрузка данных \n",
    "#может занять несколько минут\n",
    "\n",
    "newsgroups = datasets.fetch_20newsgroups(subset = 'all', categories=['alt.atheism', 'sci.space'])\n",
    "x = newsgroups.data\n",
    "y = newsgroups.target\n",
    "\n",
    "#2. Вычислите TF-IDF-признаки для всех текстов. Обратите внимание, что в этом задании мы предлагаем вам \n",
    "#вычислить TF-IDF по всем данным. При таком подходе получается, что признаки на обучающем множестве \n",
    "#используют информацию из тестовой выборки — но такая ситуация вполне законна, поскольку мы не\n",
    "#используем значения целевой переменной из теста. На практике нередко встречаются ситуации, когда \n",
    "#признаки объектов тестовой выборки известны на момент обучения, и поэтому можно ими пользоваться\n",
    "#при обучении алгоритма.\n",
    "\n",
    "vectorizer = TfidfVectorizer()\n",
    "vectorizer.fit_transform(x)\n",
    "\n",
    "#3. Подберите минимальный лучший параметр C из множества [10^-5, 10^-4, ... 10^4, 10^5] для SVM \n",
    "#с линейным ядром (kernel='linear') при помощи кросс-валидации по 5 блокам. Укажите параметр\n",
    "#random_state=241 и для SVM, и для KFold. В качестве меры качества используйте долю верных ответов (accuracy).\n",
    "\n",
    "grid = {'C': np.power(10.0, np.arange(-5,6))}\n",
    "cv = KFold(y.size, n_folds = 5, random_state = 241, shuffle = True)\n",
    "clf = SVC(kernel = 'linear', random_state = 241)\n",
    "gs = GridSearchCV(clf, grid, scoring = 'accuracy', cv = cv)\n",
    "gs.fit(vectorizer.transform(x),y)\n",
    "\n",
    "C = gs.best_params_.get('C')\n",
    "\n",
    "#4. Обучите SVM по всей выборке с оптимальным параметром C, найденным на предыдущем шаге.\n",
    "\n",
    "clf = SVC(C = C, kernel='linear', random_state=241)\n",
    "clf.fit(vectorizer.transform(x),y)\n",
    "\n",
    "#5. Найдите 10 слов с наибольшим абсолютным значением веса (веса хранятся в поле coef_ у svm.SVC). \n",
    "#Они являются ответом на это задание. Укажите эти слова через запятую или пробел, в нижнем регистре,\n",
    "#в лексикографическом порядке.\n",
    "\n",
    "idxs = np.argsort(-np.abs(clf.coef_.todense().data))\n",
    "feature_maping = vectorizer.get_feature_names()\n",
    "print(' '.join(sorted([feature_maping[i] for i in idxs[0][0:10]])))\n"
   ]
  },
  {
   "cell_type": "code",
   "execution_count": null,
   "metadata": {},
   "outputs": [],
   "source": []
  }
 ],
 "metadata": {
  "kernelspec": {
   "display_name": "Python 3",
   "language": "python",
   "name": "python3"
  }
 },
 "nbformat": 4,
 "nbformat_minor": 2
}
