{
 "cells": [
  {
   "cell_type": "code",
   "execution_count": 10,
   "metadata": {},
   "outputs": [
    {
     "name": "stdout",
     "output_type": "stream",
     "text": [
      "1.  4\n",
      "2.  0.91\n",
      "3.  V\n"
     ]
    }
   ],
   "source": [
    "import pandas as pd\n",
    "from sklearn.decomposition import PCA\n",
    "from numpy import corrcoef\n",
    "#1. Загрузите данные close_prices.csv. В этом файле приведены цены акций 30 компаний на закрытии\n",
    "#торгов за каждый день периода.\n",
    "\n",
    "data = pd.read_csv('close_prices.csv')\n",
    "x = data.loc[:,'AXP':]\n",
    "\n",
    "#2. На загруженных данных обучите преобразование PCA с числом компоненты равным 10. \n",
    "#Скольких компонент хватит, чтобы объяснить 90% дисперсии?\n",
    "\n",
    "pca = PCA(n_components = 10)\n",
    "pca.fit(x.values)\n",
    "\n",
    "dispearse= 0\n",
    "count_comp = 0\n",
    "for i in pca.explained_variance_ratio_:\n",
    "    count_comp += 1\n",
    "    dispearse += i\n",
    "    if dispearse >= 0.9:\n",
    "        break\n",
    "print('1. ',count_comp)\n",
    "\n",
    "#3.Примените построенное преобразование к исходным данным и возьмите значения первой компоненты.\n",
    "data_component = pd.DataFrame(pca.transform(x))\n",
    "comp_null = data_component[0]\n",
    "\n",
    "#4.Загрузите информацию об индексе Доу-Джонса из файла djia_index.csv. Чему равна корреляция Пирсона\n",
    "#между первой компонентой и индексом Доу-Джонса?\n",
    "\n",
    "index_data = pd.read_csv('djia_index.csv')\n",
    "dj_ind_1 = index_data['^DJI']\n",
    "corr = corrcoef(comp_null,dj_ind_1)\n",
    "print('2. ', round(corr[1,0],2))\n",
    "\n",
    "#5. Какая компания имеет наибольший вес в первой компоненте? Укажите ее название с большой буквы.\n",
    "comp_weight = pd.Series(pca.components_[0])\n",
    "comp_top_weight = comp_weight.sort_values(ascending = False).head(1).index[0]\n",
    "company = x.columns[comp_top_weight]\n",
    "print('3. ', company)"
   ]
  },
  {
   "cell_type": "code",
   "execution_count": null,
   "metadata": {},
   "outputs": [],
   "source": []
  }
 ],
 "metadata": {
  "kernelspec": {
   "display_name": "Python 3",
   "language": "python",
   "name": "python3"
  },
  "language_info": {
   "codemirror_mode": {
    "name": "ipython",
    "version": 3
   },
   "file_extension": ".py",
   "mimetype": "text/x-python",
   "name": "python",
   "nbconvert_exporter": "python",
   "pygments_lexer": "ipython3",
   "version": "3.6.5"
  }
 },
 "nbformat": 4,
 "nbformat_minor": 2
}
