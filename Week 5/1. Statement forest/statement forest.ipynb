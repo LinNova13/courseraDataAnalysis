{
 "cells": [
  {
   "cell_type": "code",
   "execution_count": 2,
   "metadata": {},
   "outputs": [
    {
     "name": "stdout",
     "output_type": "stream",
     "text": [
      "1.  22\n"
     ]
    }
   ],
   "source": [
    "import pandas as pd\n",
    "import numpy as np\n",
    "from sklearn.ensemble import RandomForestClassifier,RandomForestRegressor\n",
    "from sklearn.cross_validation import KFold, cross_val_score\n",
    "\n",
    "#1.Загрузите данные из файла abalone.csv. Это датасет, в котором требуется предсказать возраст ракушки\n",
    "# (число колец) по физическим измерениям.\n",
    "\n",
    "data = pd.read_csv('abalone.csv')\n",
    "\n",
    "#2.Преобразуйте признак Sex в числовой: значение F должно перейти в -1, I — в 0, M — в 1. \n",
    "data['Sex'] = data['Sex'].map(lambda x: 1 if x == 'M' else (-1 if x == 'F' else 0))\n",
    "\n",
    "\n",
    "#3.Разделите содержимое файлов на признаки и целевую переменную. В последнем столбце записана целевая переменная, в остальных — признаки.\n",
    "\n",
    "x = data.loc[:, 'Sex':'ShellWeight']\n",
    "y = data['Rings']\n",
    "\n",
    "#4. Обучите случайный лес  с различным числом деревьев: от 1 до 50\n",
    "\n",
    "kf = KFold(y.size, n_folds = 5, shuffle = True, random_state = 1)\n",
    "scores = [0.0]\n",
    "n_estimators = range(1,51)\n",
    "for n in n_estimators:\n",
    "    model = RandomForestRegressor(n_estimators = n, random_state = 1)\n",
    "    score = np.mean(cross_val_score(model, x, y, cv = kf, scoring = 'r2'))\n",
    "    scores.append(score)\n",
    "    \n",
    "#5. Определите, при каком минимальном количестве деревьев случайный лес показывает качество на кросс-валидации выше 0.52. \n",
    "\n",
    "for n,score in enumerate(scores):\n",
    "    if score > 0.52:\n",
    "        print('1. ',n)\n",
    "        break\n",
    "\n",
    "\n"
   ]
  },
  {
   "cell_type": "code",
   "execution_count": null,
   "metadata": {},
   "outputs": [],
   "source": []
  }
 ],
 "metadata": {
  "kernelspec": {
   "display_name": "Python 3",
   "language": "python",
   "name": "python3"
  },
  "language_info": {
   "codemirror_mode": {
    "name": "ipython",
    "version": 3
   },
   "file_extension": ".py",
   "mimetype": "text/x-python",
   "name": "python",
   "nbconvert_exporter": "python",
   "pygments_lexer": "ipython3",
   "version": "3.6.5"
  }
 },
 "nbformat": 4,
 "nbformat_minor": 2
}
